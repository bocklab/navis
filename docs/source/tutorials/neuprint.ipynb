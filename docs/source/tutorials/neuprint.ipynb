{
 "cells": [
  {
   "cell_type": "raw",
   "metadata": {
    "raw_mimetype": "text/restructuredtext"
   },
   "source": [
    ".. _neuprint_intro:\n",
    "\n",
    "neuPrint\n",
    "--------\n",
    "\n",
    "`Neuprint <https://www.biorxiv.org/content/10.1101/2020.01.16.909465v1>`_ is a service for presenting and analyzing connectomics data. It is used to host the Janelia EM reconstructions from a Drosophila hemibrain at https://neuprint.janelia.org/.\n",
    "\n",
    "`neuprint-python <https://github.com/connectome-neuprint/neuprint-python>`_ is a Python library that lets you query data directly from a neuprint server. You can install it from PyPI::\n",
    "\n",
    "    pip3 install neuprint-python\n",
    "\n",
    "``navis.interfaces.neuprint`` wraps ``neuprint-python`` and adds a few functions to fetch and convert data into navis objects."
   ]
  },
  {
   "cell_type": "code",
   "execution_count": 7,
   "metadata": {},
   "outputs": [],
   "source": [
    "# Import navis\n",
    "import navis\n",
    "\n",
    "# Import neuprint wrapper by navis\n",
    "import navis.interfaces.neuprint as neu"
   ]
  },
  {
   "cell_type": "raw",
   "metadata": {
    "raw_mimetype": "text/restructuredtext"
   },
   "source": [
    "First set up the connection:\n",
    "You can either pass your API token directly or store as ``NEUPRINT_APPLICATION_CREDENTIALS`` environment variable. We will use the latter option here:"
   ]
  },
  {
   "cell_type": "code",
   "execution_count": 2,
   "metadata": {},
   "outputs": [],
   "source": [
    "client = neu.Client(\n",
    "    \"https://neuprint.janelia.org/\",\n",
    "    # token=\"MYLONGTOKEN\"  # use this to instead pass your token directly\n",
    "    dataset=\"hemibrain:v1.1\",\n",
    ")"
   ]
  },
  {
   "cell_type": "raw",
   "metadata": {
    "raw_mimetype": "text/restructuredtext"
   },
   "source": [
    "You can use all of neuprint's functions:"
   ]
  },
  {
   "cell_type": "code",
   "execution_count": 3,
   "metadata": {},
   "outputs": [
    {
     "data": {
      "text/html": [
       "<div>\n",
       "<style scoped>\n",
       "    .dataframe tbody tr th:only-of-type {\n",
       "        vertical-align: middle;\n",
       "    }\n",
       "\n",
       "    .dataframe tbody tr th {\n",
       "        vertical-align: top;\n",
       "    }\n",
       "\n",
       "    .dataframe thead th {\n",
       "        text-align: right;\n",
       "    }\n",
       "</style>\n",
       "<table border=\"1\" class=\"dataframe\">\n",
       "  <thead>\n",
       "    <tr style=\"text-align: right;\">\n",
       "      <th></th>\n",
       "      <th>bodyId</th>\n",
       "      <th>instance</th>\n",
       "      <th>type</th>\n",
       "      <th>pre</th>\n",
       "      <th>post</th>\n",
       "      <th>downstream</th>\n",
       "      <th>upstream</th>\n",
       "      <th>size</th>\n",
       "      <th>status</th>\n",
       "      <th>cropped</th>\n",
       "      <th>statusLabel</th>\n",
       "      <th>cellBodyFiber</th>\n",
       "      <th>somaRadius</th>\n",
       "      <th>somaLocation</th>\n",
       "      <th>roiInfo</th>\n",
       "      <th>notes</th>\n",
       "      <th>inputRois</th>\n",
       "      <th>outputRois</th>\n",
       "    </tr>\n",
       "  </thead>\n",
       "  <tbody>\n",
       "    <tr>\n",
       "      <th>0</th>\n",
       "      <td>300972942</td>\n",
       "      <td>MBON14(a3)_R</td>\n",
       "      <td>MBON14</td>\n",
       "      <td>543</td>\n",
       "      <td>13634</td>\n",
       "      <td>4340</td>\n",
       "      <td>13634</td>\n",
       "      <td>1563154937</td>\n",
       "      <td>Traced</td>\n",
       "      <td>False</td>\n",
       "      <td>Roughly traced</td>\n",
       "      <td>None</td>\n",
       "      <td>NaN</td>\n",
       "      <td>None</td>\n",
       "      <td>{'MB(R)': {'pre': 17, 'post': 13295, 'downstre...</td>\n",
       "      <td>None</td>\n",
       "      <td>[MB(+ACA)(R), MB(R), SIP(R), SLP(R), SMP(R), S...</td>\n",
       "      <td>[MB(+ACA)(R), MB(R), SIP(R), SLP(R), SMP(R), S...</td>\n",
       "    </tr>\n",
       "    <tr>\n",
       "      <th>1</th>\n",
       "      <td>394225044</td>\n",
       "      <td>MBON14(a3)_L</td>\n",
       "      <td>MBON14</td>\n",
       "      <td>187</td>\n",
       "      <td>5172</td>\n",
       "      <td>768</td>\n",
       "      <td>5172</td>\n",
       "      <td>355138411</td>\n",
       "      <td>Traced</td>\n",
       "      <td>False</td>\n",
       "      <td>Roughly traced</td>\n",
       "      <td>None</td>\n",
       "      <td>NaN</td>\n",
       "      <td>None</td>\n",
       "      <td>{'MB(L)': {'pre': 185, 'post': 5143, 'downstre...</td>\n",
       "      <td>None</td>\n",
       "      <td>[MB(L), SIP(L), SNP(L), aL(L)]</td>\n",
       "      <td>[MB(L), SIP(L), SNP(L), aL(L)]</td>\n",
       "    </tr>\n",
       "    <tr>\n",
       "      <th>2</th>\n",
       "      <td>422725634</td>\n",
       "      <td>MBON06(B1&gt;a)(AVM07)_L</td>\n",
       "      <td>MBON06</td>\n",
       "      <td>1356</td>\n",
       "      <td>21000</td>\n",
       "      <td>9584</td>\n",
       "      <td>21000</td>\n",
       "      <td>3118470391</td>\n",
       "      <td>Traced</td>\n",
       "      <td>False</td>\n",
       "      <td>Roughly traced</td>\n",
       "      <td>None</td>\n",
       "      <td>NaN</td>\n",
       "      <td>None</td>\n",
       "      <td>{'MB(R)': {'pre': 777, 'post': 20390, 'downstr...</td>\n",
       "      <td>None</td>\n",
       "      <td>[CRE(-ROB,-RUB)(R), CRE(R), INP, MB(+ACA)(R), ...</td>\n",
       "      <td>[CRE(-ROB,-RUB)(R), CRE(R), INP, MB(+ACA)(R), ...</td>\n",
       "    </tr>\n",
       "  </tbody>\n",
       "</table>\n",
       "</div>"
      ],
      "text/plain": [
       "      bodyId               instance    type   pre   post  downstream  \\\n",
       "0  300972942           MBON14(a3)_R  MBON14   543  13634        4340   \n",
       "1  394225044           MBON14(a3)_L  MBON14   187   5172         768   \n",
       "2  422725634  MBON06(B1>a)(AVM07)_L  MBON06  1356  21000        9584   \n",
       "\n",
       "   upstream        size  status  cropped     statusLabel cellBodyFiber  \\\n",
       "0     13634  1563154937  Traced    False  Roughly traced          None   \n",
       "1      5172   355138411  Traced    False  Roughly traced          None   \n",
       "2     21000  3118470391  Traced    False  Roughly traced          None   \n",
       "\n",
       "   somaRadius somaLocation                                            roiInfo  \\\n",
       "0         NaN         None  {'MB(R)': {'pre': 17, 'post': 13295, 'downstre...   \n",
       "1         NaN         None  {'MB(L)': {'pre': 185, 'post': 5143, 'downstre...   \n",
       "2         NaN         None  {'MB(R)': {'pre': 777, 'post': 20390, 'downstr...   \n",
       "\n",
       "  notes                                          inputRois  \\\n",
       "0  None  [MB(+ACA)(R), MB(R), SIP(R), SLP(R), SMP(R), S...   \n",
       "1  None                     [MB(L), SIP(L), SNP(L), aL(L)]   \n",
       "2  None  [CRE(-ROB,-RUB)(R), CRE(R), INP, MB(+ACA)(R), ...   \n",
       "\n",
       "                                          outputRois  \n",
       "0  [MB(+ACA)(R), MB(R), SIP(R), SLP(R), SMP(R), S...  \n",
       "1                     [MB(L), SIP(L), SNP(L), aL(L)]  \n",
       "2  [CRE(-ROB,-RUB)(R), CRE(R), INP, MB(+ACA)(R), ...  "
      ]
     },
     "execution_count": 3,
     "metadata": {},
     "output_type": "execute_result"
    }
   ],
   "source": [
    "mbons, roi_info = neu.fetch_neurons(\n",
    "    neu.SegmentCriteria(instance=\".*MBON.*\", regex=True)\n",
    ")\n",
    "mbons.head(3)"
   ]
  },
  {
   "cell_type": "raw",
   "metadata": {
    "raw_mimetype": "text/restructuredtext"
   },
   "source": [
    "NAVis has added three functions to ``neu``:\n",
    "  - :func:`navis.interfaces.neuprint.fetch_roi`: returns a :class:`navis.Volume` from a ROI\n",
    "  - :func:`navis.interfaces.neuprint.fetch_skeletons`: returns fully fledged :class:`navis.TreeNeuron` - nodes, synapses, soma and all\n",
    "  - :func:`navis.interfaces.neuprint.fetch_mesh_neuron`: returns :class:`navis.MeshNeuron` - including synapses"
   ]
  },
  {
   "cell_type": "code",
   "execution_count": 4,
   "metadata": {},
   "outputs": [
    {
     "data": {
      "text/plain": [
       "<navis.Volume(name=MB(R), color=(0.85, 0.85, 0.85, 0.2), vertices.shape=(57913, 3), faces.shape=(115856, 3))>"
      ]
     },
     "execution_count": 4,
     "metadata": {},
     "output_type": "execute_result"
    }
   ],
   "source": [
    "mb = neu.fetch_roi(\"MB(R)\")\n",
    "mb"
   ]
  },
  {
   "cell_type": "code",
   "execution_count": 6,
   "metadata": {},
   "outputs": [
    {
     "data": {
      "application/vnd.jupyter.widget-view+json": {
       "model_id": "dc089432e2644958b9c14532f899919a",
       "version_major": 2,
       "version_minor": 0
      },
      "text/plain": [
       "Fetching:   0%|          | 0/44 [00:00<?, ?it/s]"
      ]
     },
     "metadata": {},
     "output_type": "display_data"
    },
    {
     "data": {
      "text/html": [
       "<div>\n",
       "<style scoped>\n",
       "    .dataframe tbody tr th:only-of-type {\n",
       "        vertical-align: middle;\n",
       "    }\n",
       "\n",
       "    .dataframe tbody tr th {\n",
       "        vertical-align: top;\n",
       "    }\n",
       "\n",
       "    .dataframe thead th {\n",
       "        text-align: right;\n",
       "    }\n",
       "</style>\n",
       "<table border=\"1\" class=\"dataframe\">\n",
       "  <thead>\n",
       "    <tr style=\"text-align: right;\">\n",
       "      <th></th>\n",
       "      <th>type</th>\n",
       "      <th>name</th>\n",
       "      <th>id</th>\n",
       "      <th>n_nodes</th>\n",
       "      <th>n_connectors</th>\n",
       "      <th>n_branches</th>\n",
       "      <th>n_leafs</th>\n",
       "      <th>cable_length</th>\n",
       "      <th>soma</th>\n",
       "      <th>units</th>\n",
       "    </tr>\n",
       "  </thead>\n",
       "  <tbody>\n",
       "    <tr>\n",
       "      <th>0</th>\n",
       "      <td>navis.TreeNeuron</td>\n",
       "      <td>MBON23(a2sp)_R</td>\n",
       "      <td>423382015</td>\n",
       "      <td>14190</td>\n",
       "      <td>5200</td>\n",
       "      <td>1195</td>\n",
       "      <td>1225</td>\n",
       "      <td>449662.18750</td>\n",
       "      <td>2364.0</td>\n",
       "      <td>8 nanometer</td>\n",
       "    </tr>\n",
       "    <tr>\n",
       "      <th>1</th>\n",
       "      <td>navis.TreeNeuron</td>\n",
       "      <td>MBON19(a2p3p)_R</td>\n",
       "      <td>423774471</td>\n",
       "      <td>6944</td>\n",
       "      <td>1783</td>\n",
       "      <td>549</td>\n",
       "      <td>561</td>\n",
       "      <td>246499.53125</td>\n",
       "      <td>1781.0</td>\n",
       "      <td>8 nanometer</td>\n",
       "    </tr>\n",
       "    <tr>\n",
       "      <th>2</th>\n",
       "      <td>navis.TreeNeuron</td>\n",
       "      <td>MBON15-like(a'1a'2)_R</td>\n",
       "      <td>457175171</td>\n",
       "      <td>9051</td>\n",
       "      <td>2299</td>\n",
       "      <td>548</td>\n",
       "      <td>561</td>\n",
       "      <td>325558.90625</td>\n",
       "      <td>8810.0</td>\n",
       "      <td>8 nanometer</td>\n",
       "    </tr>\n",
       "    <tr>\n",
       "      <th>3</th>\n",
       "      <td>navis.TreeNeuron</td>\n",
       "      <td>MBON16-like(a'3a)_R</td>\n",
       "      <td>457196643</td>\n",
       "      <td>9769</td>\n",
       "      <td>4016</td>\n",
       "      <td>900</td>\n",
       "      <td>913</td>\n",
       "      <td>408057.59375</td>\n",
       "      <td>5974.0</td>\n",
       "      <td>8 nanometer</td>\n",
       "    </tr>\n",
       "    <tr>\n",
       "      <th>4</th>\n",
       "      <td>navis.TreeNeuron</td>\n",
       "      <td>MBON14(a3)_R</td>\n",
       "      <td>300972942</td>\n",
       "      <td>22834</td>\n",
       "      <td>14177</td>\n",
       "      <td>2297</td>\n",
       "      <td>2369</td>\n",
       "      <td>758249.75000</td>\n",
       "      <td>NaN</td>\n",
       "      <td>8 nanometer</td>\n",
       "    </tr>\n",
       "  </tbody>\n",
       "</table>\n",
       "</div>"
      ],
      "text/plain": [
       "               type                   name         id  n_nodes  n_connectors  \\\n",
       "0  navis.TreeNeuron         MBON23(a2sp)_R  423382015    14190          5200   \n",
       "1  navis.TreeNeuron        MBON19(a2p3p)_R  423774471     6944          1783   \n",
       "2  navis.TreeNeuron  MBON15-like(a'1a'2)_R  457175171     9051          2299   \n",
       "3  navis.TreeNeuron    MBON16-like(a'3a)_R  457196643     9769          4016   \n",
       "4  navis.TreeNeuron           MBON14(a3)_R  300972942    22834         14177   \n",
       "\n",
       "   n_branches  n_leafs  cable_length    soma        units  \n",
       "0        1195     1225  449662.18750  2364.0  8 nanometer  \n",
       "1         549      561  246499.53125  1781.0  8 nanometer  \n",
       "2         548      561  325558.90625  8810.0  8 nanometer  \n",
       "3         900      913  408057.59375  5974.0  8 nanometer  \n",
       "4        2297     2369  758249.75000     NaN  8 nanometer  "
      ]
     },
     "execution_count": 6,
     "metadata": {},
     "output_type": "execute_result"
    }
   ],
   "source": [
    "mbon_skeletons = neu.fetch_skeletons(\n",
    "    neu.SegmentCriteria(instance=\".*MBON.*_R\", regex=True), with_synapses=True\n",
    ")\n",
    "mbon_skeletons.head()"
   ]
  },
  {
   "cell_type": "code",
   "execution_count": null,
   "metadata": {},
   "outputs": [],
   "source": [
    "# Generate a 3D plot\n",
    "fig = navis.plot3d([mbon_skeletons[0], mb])"
   ]
  },
  {
   "cell_type": "raw",
   "metadata": {
    "raw_mimetype": "text/restructuredtext"
   },
   "source": [
    ".. raw:: html\n",
    "   :file: figures/3d_neuprint.html\n",
    "\n",
    "|\n",
    "|\n",
    "|\n",
    "|"
   ]
  },
  {
   "cell_type": "code",
   "execution_count": 13,
   "metadata": {},
   "outputs": [
    {
     "data": {
      "text/html": [
       "<div>\n",
       "<style scoped>\n",
       "    .dataframe tbody tr th:only-of-type {\n",
       "        vertical-align: middle;\n",
       "    }\n",
       "\n",
       "    .dataframe tbody tr th {\n",
       "        vertical-align: top;\n",
       "    }\n",
       "\n",
       "    .dataframe thead th {\n",
       "        text-align: right;\n",
       "    }\n",
       "</style>\n",
       "<table border=\"1\" class=\"dataframe\">\n",
       "  <thead>\n",
       "    <tr style=\"text-align: right;\">\n",
       "      <th></th>\n",
       "      <th></th>\n",
       "    </tr>\n",
       "  </thead>\n",
       "  <tbody>\n",
       "    <tr>\n",
       "      <th>type</th>\n",
       "      <td>navis.TreeNeuron</td>\n",
       "    </tr>\n",
       "    <tr>\n",
       "      <th>name</th>\n",
       "      <td>MBON23(a2sp)_R</td>\n",
       "    </tr>\n",
       "    <tr>\n",
       "      <th>id</th>\n",
       "      <td>423382015</td>\n",
       "    </tr>\n",
       "    <tr>\n",
       "      <th>n_nodes</th>\n",
       "      <td>14190</td>\n",
       "    </tr>\n",
       "    <tr>\n",
       "      <th>n_connectors</th>\n",
       "      <td>5200</td>\n",
       "    </tr>\n",
       "    <tr>\n",
       "      <th>n_branches</th>\n",
       "      <td>1195</td>\n",
       "    </tr>\n",
       "    <tr>\n",
       "      <th>n_leafs</th>\n",
       "      <td>1225</td>\n",
       "    </tr>\n",
       "    <tr>\n",
       "      <th>cable_length</th>\n",
       "      <td>449662.1875</td>\n",
       "    </tr>\n",
       "    <tr>\n",
       "      <th>soma</th>\n",
       "      <td>2364</td>\n",
       "    </tr>\n",
       "    <tr>\n",
       "      <th>units</th>\n",
       "      <td>8 nanometer</td>\n",
       "    </tr>\n",
       "  </tbody>\n",
       "</table>\n",
       "</div>"
      ],
      "text/plain": [
       "type            navis.TreeNeuron\n",
       "name              MBON23(a2sp)_R\n",
       "id                     423382015\n",
       "n_nodes                    14190\n",
       "n_connectors                5200\n",
       "n_branches                  1195\n",
       "n_leafs                     1225\n",
       "cable_length         449662.1875\n",
       "soma                        2364\n",
       "units                8 nanometer\n",
       "dtype: object"
      ]
     },
     "execution_count": 13,
     "metadata": {},
     "output_type": "execute_result"
    }
   ],
   "source": [
    "mbon_skeletons[0]"
   ]
  },
  {
   "cell_type": "code",
   "execution_count": 20,
   "metadata": {},
   "outputs": [
    {
     "data": {
      "image/png": "[encoded data removed]",
      "text/plain": [
       "<Figure size 432x432 with 1 Axes>"
      ]
     },
     "metadata": {
      "needs_background": "light"
     },
     "output_type": "display_data"
    }
   ],
   "source": [
    "# Make a 2d plot\n",
    "import matplotlib.pyplot as plt\n",
    "\n",
    "fig, ax = navis.plot2d(\n",
    "    [mbon_skeletons[0], mb], c=(0, 0, 0, 0.5), method=\"3d\", connectors=True, lw=0.5\n",
    ")\n",
    "\n",
    "# Rotate to top view\n",
    "ax.elev = -90\n",
    "plt.show()"
   ]
  },
  {
   "cell_type": "raw",
   "metadata": {
    "raw_mimetype": "text/restructuredtext"
   },
   "source": [
    "All navis functions for analysis & visualization should work on these neurons. If not, please open an issue on Github."
   ]
  }
 ],
 "metadata": {
  "celltoolbar": "Raw Cell Format",
  "kernelspec": {
   "display_name": "Python 3",
   "language": "python",
   "name": "python3"
  },
  "language_info": {
   "codemirror_mode": {
    "name": "ipython",
    "version": 3
   },
   "file_extension": ".py",
   "mimetype": "text/x-python",
   "name": "python",
   "nbconvert_exporter": "python",
   "pygments_lexer": "ipython3",
   "version": "3.9.9"
  },
  "widgets": {
   "application/vnd.jupyter.widget-state+json": {
    "state": {
     "1c4a8e6e25da401499c79c5955ac7d5e": {
      "model_module": "@jupyter-widgets/controls",
      "model_module_version": "1.5.0",
      "model_name": "DescriptionStyleModel",
      "state": {
       "description_width": ""
      }
     },
     "1f9227e3f26645b1a3a142770022815d": {
      "model_module": "@jupyter-widgets/base",
      "model_module_version": "1.2.0",
      "model_name": "LayoutModel",
      "state": {}
     },
     "212f3d81659b4998b76bce694a8b3780": {
      "model_module": "@jupyter-widgets/controls",
      "model_module_version": "1.5.0",
      "model_name": "DescriptionStyleModel",
      "state": {
       "description_width": ""
      }
     },
     "4c7e273fa4f742e1ba11d96fef7e53fd": {
      "model_module": "@jupyter-widgets/controls",
      "model_module_version": "1.5.0",
      "model_name": "HTMLModel",
      "state": {
       "layout": "IPY_MODEL_611c59a79e834c23b2efcceefbf1a5a4",
       "style": "IPY_MODEL_1c4a8e6e25da401499c79c5955ac7d5e",
       "value": "Fetching: 100%"
      }
     },
     "546a4f5f2e2f418685c21e0257bd343b": {
      "model_module": "@jupyter-widgets/base",
      "model_module_version": "1.2.0",
      "model_name": "LayoutModel",
      "state": {}
     },
     "59bc1405b33d4f6ea5f3db4ff4440bf1": {
      "model_module": "@jupyter-widgets/base",
      "model_module_version": "1.2.0",
      "model_name": "LayoutModel",
      "state": {}
     },
     "5ebcd38d6c634160b448be950b6abeb9": {
      "model_module": "@jupyter-widgets/controls",
      "model_module_version": "1.5.0",
      "model_name": "DescriptionStyleModel",
      "state": {
       "description_width": ""
      }
     },
     "611c59a79e834c23b2efcceefbf1a5a4": {
      "model_module": "@jupyter-widgets/base",
      "model_module_version": "1.2.0",
      "model_name": "LayoutModel",
      "state": {}
     },
     "6618ce2f5fa84f7dbdd17f3263005ed7": {
      "model_module": "@jupyter-widgets/controls",
      "model_module_version": "1.5.0",
      "model_name": "FloatProgressModel",
      "state": {
       "layout": "IPY_MODEL_ca85ad66dae84f579a1665b91f3781a4",
       "max": 44,
       "style": "IPY_MODEL_f3804deb4da04bb3a9b2889e567a6a73",
       "value": 44
      }
     },
     "66523e596b024d8780bf127b79ba2708": {
      "model_module": "@jupyter-widgets/controls",
      "model_module_version": "1.5.0",
      "model_name": "FloatProgressModel",
      "state": {
       "layout": "IPY_MODEL_aafd770f24514f2daf08cbf828b8e4b3",
       "max": 70,
       "style": "IPY_MODEL_df08f2d6a781457983448d9c5d0bbcee",
       "value": 70
      }
     },
     "6c24d1c3b28b4e65bb002e100494bcf6": {
      "model_module": "@jupyter-widgets/controls",
      "model_module_version": "1.5.0",
      "model_name": "ProgressStyleModel",
      "state": {
       "description_width": ""
      }
     },
     "6e47306acd9b4956ab6c8aa66cea1e36": {
      "model_module": "@jupyter-widgets/controls",
      "model_module_version": "1.5.0",
      "model_name": "HTMLModel",
      "state": {
       "layout": "IPY_MODEL_9ecf26989e8146519eb4b51c68b564a1",
       "style": "IPY_MODEL_a2a29cb3120441238e7e1c9a317fd761",
       "value": " 70/70 [00:29&lt;00:00,  1.48it/s]"
      }
     },
     "6fc09046fa534bc1aea23534b85090c7": {
      "model_module": "@jupyter-widgets/base",
      "model_module_version": "1.2.0",
      "model_name": "LayoutModel",
      "state": {}
     },
     "73cf840576f942bc9f6768e91e276371": {
      "model_module": "@jupyter-widgets/base",
      "model_module_version": "1.2.0",
      "model_name": "LayoutModel",
      "state": {}
     },
     "7422aa2bf1ba44c8bf4258331e79dfe0": {
      "model_module": "@jupyter-widgets/base",
      "model_module_version": "1.2.0",
      "model_name": "LayoutModel",
      "state": {}
     },
     "7afc87e81c4549b89a299ad3f8bb843e": {
      "model_module": "@jupyter-widgets/controls",
      "model_module_version": "1.5.0",
      "model_name": "HTMLModel",
      "state": {
       "layout": "IPY_MODEL_1f9227e3f26645b1a3a142770022815d",
       "style": "IPY_MODEL_5ebcd38d6c634160b448be950b6abeb9",
       "value": "Fetching: 100%"
      }
     },
     "852e56fdd30a44aeb1ea08fcfccb03dc": {
      "model_module": "@jupyter-widgets/base",
      "model_module_version": "1.2.0",
      "model_name": "LayoutModel",
      "state": {}
     },
     "8deb5eda27a5450eacac1a1952008419": {
      "model_module": "@jupyter-widgets/controls",
      "model_module_version": "1.5.0",
      "model_name": "DescriptionStyleModel",
      "state": {
       "description_width": ""
      }
     },
     "9ecf26989e8146519eb4b51c68b564a1": {
      "model_module": "@jupyter-widgets/base",
      "model_module_version": "1.2.0",
      "model_name": "LayoutModel",
      "state": {}
     },
     "9f9e36eec254423e82dcbb4e42ae7230": {
      "model_module": "@jupyter-widgets/controls",
      "model_module_version": "1.5.0",
      "model_name": "FloatProgressModel",
      "state": {
       "layout": "IPY_MODEL_6fc09046fa534bc1aea23534b85090c7",
       "max": 3,
       "style": "IPY_MODEL_6c24d1c3b28b4e65bb002e100494bcf6",
       "value": 3
      }
     },
     "a2a29cb3120441238e7e1c9a317fd761": {
      "model_module": "@jupyter-widgets/controls",
      "model_module_version": "1.5.0",
      "model_name": "DescriptionStyleModel",
      "state": {
       "description_width": ""
      }
     },
     "aafd770f24514f2daf08cbf828b8e4b3": {
      "model_module": "@jupyter-widgets/base",
      "model_module_version": "1.2.0",
      "model_name": "LayoutModel",
      "state": {}
     },
     "acfc32af2b064605beedeca760192ff9": {
      "model_module": "@jupyter-widgets/controls",
      "model_module_version": "1.5.0",
      "model_name": "HTMLModel",
      "state": {
       "layout": "IPY_MODEL_7422aa2bf1ba44c8bf4258331e79dfe0",
       "style": "IPY_MODEL_c711737cd63947e6b193d6c5609bf1a4",
       "value": " 3/3 [00:00&lt;00:00,  3.43it/s]"
      }
     },
     "c332d3d3f29542dab996d1778e97b048": {
      "model_module": "@jupyter-widgets/controls",
      "model_module_version": "1.5.0",
      "model_name": "HTMLModel",
      "state": {
       "layout": "IPY_MODEL_fee1779648db4cfbb735696b4b911933",
       "style": "IPY_MODEL_8deb5eda27a5450eacac1a1952008419",
       "value": "Plot neurons: 100%"
      }
     },
     "c711737cd63947e6b193d6c5609bf1a4": {
      "model_module": "@jupyter-widgets/controls",
      "model_module_version": "1.5.0",
      "model_name": "DescriptionStyleModel",
      "state": {
       "description_width": ""
      }
     },
     "ca85ad66dae84f579a1665b91f3781a4": {
      "model_module": "@jupyter-widgets/base",
      "model_module_version": "1.2.0",
      "model_name": "LayoutModel",
      "state": {}
     },
     "df08f2d6a781457983448d9c5d0bbcee": {
      "model_module": "@jupyter-widgets/controls",
      "model_module_version": "1.5.0",
      "model_name": "ProgressStyleModel",
      "state": {
       "description_width": ""
      }
     },
     "edca1ee438a5471d826d7281840e4537": {
      "model_module": "@jupyter-widgets/controls",
      "model_module_version": "1.5.0",
      "model_name": "HTMLModel",
      "state": {
       "layout": "IPY_MODEL_852e56fdd30a44aeb1ea08fcfccb03dc",
       "style": "IPY_MODEL_212f3d81659b4998b76bce694a8b3780",
       "value": " 44/44 [00:13&lt;00:00,  3.74it/s]"
      }
     },
     "f3804deb4da04bb3a9b2889e567a6a73": {
      "model_module": "@jupyter-widgets/controls",
      "model_module_version": "1.5.0",
      "model_name": "ProgressStyleModel",
      "state": {
       "description_width": ""
      }
     },
     "fee1779648db4cfbb735696b4b911933": {
      "model_module": "@jupyter-widgets/base",
      "model_module_version": "1.2.0",
      "model_name": "LayoutModel",
      "state": {}
     }
    },
    "version_major": 2,
    "version_minor": 0
   }
  }
 },
 "nbformat": 4,
 "nbformat_minor": 4
}
